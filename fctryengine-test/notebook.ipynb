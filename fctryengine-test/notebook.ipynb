{
 "cells": [
  {
   "cell_type": "code",
   "execution_count": 2,
   "metadata": {},
   "outputs": [],
   "source": [
    "# Make sure to pip install factryengine\n",
    "\n",
    "from prod_scheduler import ProdScheduler\n",
    "from factryengine import Scheduler\n",
    "\n",
    "# Create a prodscheduler Instance.\n",
    "# The three json file should be kept in the data/ folder. \n",
    "# groups.json, resource.json, tasks.json\n",
    "ps = ProdScheduler()\n",
    "\n",
    "# You can check the available attributes but the one that you feed to the Scheduler engine is the \"task_list\"\n",
    "# type(ps.tasks_list)\n",
    "\n",
    "# Sample generation \n",
    "# solution = Scheduler(ps.tasks_list).schedule()"
   ]
  }
 ],
 "metadata": {
  "kernelspec": {
   "display_name": "venv",
   "language": "python",
   "name": "python3"
  },
  "language_info": {
   "codemirror_mode": {
    "name": "ipython",
    "version": 3
   },
   "file_extension": ".py",
   "mimetype": "text/x-python",
   "name": "python",
   "nbconvert_exporter": "python",
   "pygments_lexer": "ipython3",
   "version": "3.11.4"
  },
  "orig_nbformat": 4
 },
 "nbformat": 4,
 "nbformat_minor": 2
}
