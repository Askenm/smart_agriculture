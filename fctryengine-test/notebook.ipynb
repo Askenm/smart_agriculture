{
 "cells": [
  {
   "cell_type": "code",
   "execution_count": null,
   "metadata": {},
   "outputs": [],
   "source": [
    "!pip3 install factryengine"
   ]
  },
  {
   "cell_type": "code",
   "execution_count": 1,
   "metadata": {},
   "outputs": [
    {
     "ename": "ValueError",
     "evalue": "all input arrays must have the same shape",
     "output_type": "error",
     "traceback": [
      "\u001b[0;31m---------------------------------------------------------------------------\u001b[0m",
      "\u001b[0;31mValueError\u001b[0m                                Traceback (most recent call last)",
      "\u001b[1;32m/home/aske/Documents/ITU/new_git/smart_agriculture/fctryengine-test/notebook.ipynb Cell 1\u001b[0m line \u001b[0;36m1\n\u001b[1;32m     <a href='vscode-notebook-cell:/home/aske/Documents/ITU/new_git/smart_agriculture/fctryengine-test/notebook.ipynb#W0sZmlsZQ%3D%3D?line=11'>12</a>\u001b[0m \u001b[39mtype\u001b[39m(ps\u001b[39m.\u001b[39mtasks_list)\n\u001b[1;32m     <a href='vscode-notebook-cell:/home/aske/Documents/ITU/new_git/smart_agriculture/fctryengine-test/notebook.ipynb#W0sZmlsZQ%3D%3D?line=13'>14</a>\u001b[0m \u001b[39m# Sample generation \u001b[39;00m\n\u001b[0;32m---> <a href='vscode-notebook-cell:/home/aske/Documents/ITU/new_git/smart_agriculture/fctryengine-test/notebook.ipynb#W0sZmlsZQ%3D%3D?line=14'>15</a>\u001b[0m solution \u001b[39m=\u001b[39m Scheduler(ps\u001b[39m.\u001b[39;49mtasks_list)\u001b[39m.\u001b[39;49mschedule()\n",
      "File \u001b[0;32m~/.local/lib/python3.10/site-packages/factryengine/scheduler/core.py:25\u001b[0m, in \u001b[0;36mScheduler.schedule\u001b[0;34m(self)\u001b[0m\n\u001b[1;32m     23\u001b[0m task_order \u001b[39m=\u001b[39m \u001b[39mself\u001b[39m\u001b[39m.\u001b[39mtask_graph\u001b[39m.\u001b[39mget_task_order()\n\u001b[1;32m     24\u001b[0m heuristic_solver \u001b[39m=\u001b[39m HeuristicSolver(\u001b[39mself\u001b[39m\u001b[39m.\u001b[39mtask_dict, \u001b[39mself\u001b[39m\u001b[39m.\u001b[39mresources, task_order)\n\u001b[0;32m---> 25\u001b[0m result \u001b[39m=\u001b[39m heuristic_solver\u001b[39m.\u001b[39;49msolve()\n\u001b[1;32m     27\u001b[0m scheduler_result \u001b[39m=\u001b[39m SchedulerResult(result)\n\u001b[1;32m     28\u001b[0m \u001b[39mprint\u001b[39m(scheduler_result\u001b[39m.\u001b[39msummary())\n",
      "File \u001b[0;32m~/.local/lib/python3.10/site-packages/factryengine/scheduler/heuristic_solver/main.py:55\u001b[0m, in \u001b[0;36mHeuristicSolver.solve\u001b[0;34m(self)\u001b[0m\n\u001b[1;32m     52\u001b[0m     \u001b[39mcontinue\u001b[39;00m\n\u001b[1;32m     54\u001b[0m \u001b[39m# allocate task\u001b[39;00m\n\u001b[0;32m---> 55\u001b[0m allocated_resource_windows_dict \u001b[39m=\u001b[39m \u001b[39mself\u001b[39;49m\u001b[39m.\u001b[39;49mtask_allocator\u001b[39m.\u001b[39;49mallocate_task(\n\u001b[1;32m     56\u001b[0m     resource_windows\u001b[39m=\u001b[39;49mtask_resource_windows,\n\u001b[1;32m     57\u001b[0m     resource_ids\u001b[39m=\u001b[39;49mtask_resource_ids,\n\u001b[1;32m     58\u001b[0m     task_duration\u001b[39m=\u001b[39;49mtask\u001b[39m.\u001b[39;49mduration,\n\u001b[1;32m     59\u001b[0m     resource_count\u001b[39m=\u001b[39;49mtask\u001b[39m.\u001b[39;49mresource_count,\n\u001b[1;32m     60\u001b[0m     resource_group_indices\u001b[39m=\u001b[39;49mtask\u001b[39m.\u001b[39;49mget_resource_group_indices(),\n\u001b[1;32m     61\u001b[0m )\n\u001b[1;32m     63\u001b[0m \u001b[39mif\u001b[39;00m \u001b[39mnot\u001b[39;00m allocated_resource_windows_dict:\n\u001b[1;32m     64\u001b[0m     unscheduled_tasks\u001b[39m.\u001b[39mappend(task_uid)\n",
      "File \u001b[0;32m~/.local/lib/python3.10/site-packages/factryengine/scheduler/heuristic_solver/task_allocator.py:15\u001b[0m, in \u001b[0;36mTaskAllocator.allocate_task\u001b[0;34m(self, resource_windows, resource_ids, task_duration, resource_count, resource_group_indices)\u001b[0m\n\u001b[1;32m      7\u001b[0m \u001b[39mdef\u001b[39;00m \u001b[39mallocate_task\u001b[39m(\n\u001b[1;32m      8\u001b[0m     \u001b[39mself\u001b[39m,\n\u001b[1;32m      9\u001b[0m     resource_windows: \u001b[39mlist\u001b[39m[np\u001b[39m.\u001b[39marray],\n\u001b[0;32m   (...)\u001b[0m\n\u001b[1;32m     13\u001b[0m     resource_group_indices: \u001b[39mlist\u001b[39m[\u001b[39mlist\u001b[39m[\u001b[39mint\u001b[39m]],\n\u001b[1;32m     14\u001b[0m ) \u001b[39m-\u001b[39m\u001b[39m>\u001b[39m Optional[\u001b[39mdict\u001b[39m[\u001b[39mint\u001b[39m, np\u001b[39m.\u001b[39marray]]:\n\u001b[0;32m---> 15\u001b[0m     matrix \u001b[39m=\u001b[39m \u001b[39mself\u001b[39;49m\u001b[39m.\u001b[39;49mcreate_matrix(resource_windows)\n\u001b[1;32m     17\u001b[0m     solution_matrix, solution_resource_ids \u001b[39m=\u001b[39m \u001b[39mself\u001b[39m\u001b[39m.\u001b[39msolve_matrix(\n\u001b[1;32m     18\u001b[0m         matrix\u001b[39m=\u001b[39mmatrix,\n\u001b[1;32m     19\u001b[0m         task_duration\u001b[39m=\u001b[39mtask_duration,\n\u001b[0;32m   (...)\u001b[0m\n\u001b[1;32m     22\u001b[0m         resource_group_indices\u001b[39m=\u001b[39mresource_group_indices,\n\u001b[1;32m     23\u001b[0m     )\n\u001b[1;32m     24\u001b[0m     \u001b[39mif\u001b[39;00m solution_matrix \u001b[39mis\u001b[39;00m \u001b[39mNone\u001b[39;00m:\n",
      "File \u001b[0;32m~/.local/lib/python3.10/site-packages/factryengine/scheduler/heuristic_solver/task_allocator.py:45\u001b[0m, in \u001b[0;36mTaskAllocator.create_matrix\u001b[0;34m(self, windows)\u001b[0m\n\u001b[1;32m     42\u001b[0m     window \u001b[39m=\u001b[39m \u001b[39mself\u001b[39m\u001b[39m.\u001b[39m_expand_array(window, new_boundaries)\n\u001b[1;32m     43\u001b[0m     matrix\u001b[39m.\u001b[39mappend(window[:, \u001b[39m1\u001b[39m])\n\u001b[0;32m---> 45\u001b[0m \u001b[39mreturn\u001b[39;00m np\u001b[39m.\u001b[39;49mstack(matrix, axis\u001b[39m=\u001b[39;49m\u001b[39m-\u001b[39;49m\u001b[39m1\u001b[39;49m)\n",
      "File \u001b[0;32m~/.local/lib/python3.10/site-packages/numpy/core/shape_base.py:449\u001b[0m, in \u001b[0;36mstack\u001b[0;34m(arrays, axis, out, dtype, casting)\u001b[0m\n\u001b[1;32m    447\u001b[0m shapes \u001b[39m=\u001b[39m {arr\u001b[39m.\u001b[39mshape \u001b[39mfor\u001b[39;00m arr \u001b[39min\u001b[39;00m arrays}\n\u001b[1;32m    448\u001b[0m \u001b[39mif\u001b[39;00m \u001b[39mlen\u001b[39m(shapes) \u001b[39m!=\u001b[39m \u001b[39m1\u001b[39m:\n\u001b[0;32m--> 449\u001b[0m     \u001b[39mraise\u001b[39;00m \u001b[39mValueError\u001b[39;00m(\u001b[39m'\u001b[39m\u001b[39mall input arrays must have the same shape\u001b[39m\u001b[39m'\u001b[39m)\n\u001b[1;32m    451\u001b[0m result_ndim \u001b[39m=\u001b[39m arrays[\u001b[39m0\u001b[39m]\u001b[39m.\u001b[39mndim \u001b[39m+\u001b[39m \u001b[39m1\u001b[39m\n\u001b[1;32m    452\u001b[0m axis \u001b[39m=\u001b[39m normalize_axis_index(axis, result_ndim)\n",
      "\u001b[0;31mValueError\u001b[0m: all input arrays must have the same shape"
     ]
    }
   ],
   "source": [
    "# Make sure to pip install factryengine\n",
    "\n",
    "from prod_scheduler import ProdScheduler\n",
    "from factryengine import Scheduler\n",
    "\n",
    "# Create a prodscheduler Instance.\n",
    "# The three json file should be kept in the data/ folder. \n",
    "# groups.json, resource.json, tasks.json\n",
    "ps = ProdScheduler()\n",
    "\n",
    "# You can check the available attributes but the one that you feed to the Scheduler engine is the \"task_list\"\n",
    "type(ps.tasks_list)\n",
    "\n",
    "# Sample generation \n",
    "solution = Scheduler(ps.tasks_list).schedule()"
   ]
  }
 ],
 "metadata": {
  "kernelspec": {
   "display_name": "venv",
   "language": "python",
   "name": "python3"
  },
  "language_info": {
   "codemirror_mode": {
    "name": "ipython",
    "version": 3
   },
   "file_extension": ".py",
   "mimetype": "text/x-python",
   "name": "python",
   "nbconvert_exporter": "python",
   "pygments_lexer": "ipython3",
   "version": "3.10.12"
  },
  "orig_nbformat": 4
 },
 "nbformat": 4,
 "nbformat_minor": 2
}
